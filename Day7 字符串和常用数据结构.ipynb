{
 "cells": [
  {
   "cell_type": "markdown",
   "metadata": {},
   "source": [
    "### 字符串"
   ]
  },
  {
   "cell_type": "markdown",
   "metadata": {},
   "source": [
    "Python为字符串提供了非常丰富的运算符。```+```运算符来实现字符串的拼接，```*```运算符来重复一个字符串的内容，可以使用```in```和```not in```来判断一个字符串是否包含另外一个字符串。使用```[]```和```[:]```运算符从字符串中取出某个字符或某些字符(切片运算)。"
   ]
  },
  {
   "cell_type": "code",
   "execution_count": 4,
   "metadata": {
    "collapsed": true
   },
   "outputs": [
    {
     "name": "stdout",
     "output_type": "stream",
     "text": [
      "hello hello hello \n",
      "hello hello hello world\n",
      "True\n",
      "True\n",
      "c\n",
      "c12\n",
      "c123456\n",
      "c246\n",
      "ac246\n",
      "654321cba\n",
      "45\n"
     ]
    }
   ],
   "source": [
    "#字符串重复\n",
    "s1 = 'hello ' * 3\n",
    "print(s1)\n",
    "#字符串相加\n",
    "s2 = 'world'\n",
    "s1 += s2\n",
    "print(s1)\n",
    "#in / not in\n",
    "print('ll' in s1)\n",
    "print('good' not in s1)\n",
    "\n",
    "str2 = 'abc123456'\n",
    "\n",
    "# 从字符串中取出指定位置的字符\n",
    "print(str2[2]) #c\n",
    "# 字符串切片（从指定的开始索引到指定的结束索引）\n",
    "print(str2[2:5]) # c12 从2到5 不包含5\n",
    "print(str2[2:]) # c123456 从2到结束\n",
    "print(str2[2::2]) # c246 从2开始步长为2\n",
    "print(str2[::2]) # ac246 从0开始步长为2\n",
    "print(str2[::-1]) # 654321cba 从0开始步长为-1字符串reverse\n",
    "print(str2[-3:-1]) # 从-3到-1 不包含-1"
   ]
  },
  {
   "cell_type": "markdown",
   "metadata": {},
   "source": [
    "在Python中，我们还可以通过一系列的方法来完成对字符串的处理"
   ]
  },
  {
   "cell_type": "code",
   "execution_count": 21,
   "metadata": {
    "collapsed": true
   },
   "outputs": [
    {
     "name": "stdout",
     "output_type": "stream",
     "text": [
      "13\n",
      "Hello, world!\n",
      "Hello, World!\n",
      "HELLO, WORLD!\n",
      "8\n",
      "-1\n",
      "8\n",
      "False\n",
      "True\n",
      "True\n",
      "******************hello, world!*******************\n",
      "                                     hello, world!\n",
      "False\n",
      "False\n",
      "True\n",
      "  vikingyang@hotmail.com \n",
      "vikingyang@hotmail.com\n"
     ]
    }
   ],
   "source": [
    "str1 = 'hello, world!'\n",
    "# len 计算字符串的长度\n",
    "print(len(str1))\n",
    "# 获得字符串首字母大写的拷贝\n",
    "print(str1.capitalize())\n",
    "# 获得字符串每个单词首字母大写的拷贝\n",
    "print(str1.title())\n",
    "# 获得字符串变大写后的拷贝\n",
    "print(str1.upper())\n",
    "# 从字符串中查找子串所在的位置\n",
    "print(str1.find('or')) # 8\n",
    "print(str1.find('shit')) # -1\n",
    "# 与find类似但找不到子串时会引发异常\n",
    "print(str1.index('or'))\n",
    "# print(str1.index('shit'))\n",
    "# 检查字符串是否以指定的字符串开头\n",
    "print(str1.startswith('He'))\n",
    "print(str1.startswith('hel'))\n",
    "# 检查字符串是否以指定的字符串结尾\n",
    "print(str1.endswith('!'))\n",
    "# 将字符串以指定的宽度居中并在两侧填充指定的字符\n",
    "print(str1.center(50, '*'))\n",
    "# 将指定的字符串以指定的宽度靠右防止左侧填充指定的字符\n",
    "print(str1.rjust(50, ' '))\n",
    "str2 = 'abc123456'\n",
    "# 检查字符串是否由数字构成\n",
    "print(str2.isdigit())\n",
    "# 检查字符串是否以字母构成\n",
    "print(str2.isalpha())\n",
    "# 检查字符串是否以数字和字母构成\n",
    "print(str2.isalnum())\n",
    "str3 = '  vikingyang@hotmail.com '\n",
    "print(str3)\n",
    "# 获得字符串修剪左右两侧空格之后的拷贝\n",
    "print(str3.strip())"
   ]
  },
  {
   "cell_type": "markdown",
   "metadata": {},
   "source": [
    "格式化字符串输出"
   ]
  },
  {
   "cell_type": "code",
   "execution_count": 22,
   "metadata": {},
   "outputs": [
    {
     "name": "stdout",
     "output_type": "stream",
     "text": [
      "5 * 10 = 50\n"
     ]
    }
   ],
   "source": [
    "# print方法的格式化\n",
    "a,b = 5,10\n",
    "print('%d * %d = %d' %(a, b, a*b))"
   ]
  },
  {
   "cell_type": "code",
   "execution_count": 23,
   "metadata": {},
   "outputs": [
    {
     "name": "stdout",
     "output_type": "stream",
     "text": [
      "5 * 10 = 50\n"
     ]
    }
   ],
   "source": [
    "# 字符串提供的方法格式化\n",
    "a,b = 5, 10\n",
    "print('{0} * {1} = {2}'.format(a, b, a*b))"
   ]
  },
  {
   "cell_type": "code",
   "execution_count": 25,
   "metadata": {},
   "outputs": [
    {
     "name": "stdout",
     "output_type": "stream",
     "text": [
      "5 * 10 = 50\n"
     ]
    }
   ],
   "source": [
    "# Python3.6以后\n",
    "a,b = 5, 10\n",
    "print(f'{a} * {b} = {a * b}')"
   ]
  },
  {
   "cell_type": "markdown",
   "metadata": {},
   "source": [
    "### 列表"
   ]
  },
  {
   "cell_type": "markdown",
   "metadata": {},
   "source": [
    "```list```是一种结构化的，非标量类型，它是值的有序序列，每个值都可以通过索引进行标识，定义列表可以将列表的元素放在```[]```中，多个元素用```,```进行分割隔，可以使用```for```循环对列表元素进行遍历，也可以使用```[]```或```[:]```运算符取出列表中的一个或多个元素"
   ]
  },
  {
   "cell_type": "code",
   "execution_count": 36,
   "metadata": {
    "collapsed": true
   },
   "outputs": [
    {
     "name": "stdout",
     "output_type": "stream",
     "text": [
      "[1, 3, 5, 7, 100]\n",
      "['hello', 'hello', 'hello']\n",
      "5\n",
      "1\n",
      "100\n",
      "100\n",
      "5\n",
      "[1, 3, 300, 7, 100]\n",
      "1\n",
      "3\n",
      "300\n",
      "7\n",
      "100\n",
      "1\n",
      "3\n",
      "300\n",
      "7\n",
      "100\n",
      "0 1\n",
      "1 3\n",
      "2 300\n",
      "3 7\n",
      "4 100\n"
     ]
    }
   ],
   "source": [
    "list1 = [1, 3, 5, 7, 100]\n",
    "print(list1)\n",
    "# 乘号表示列表元素的重复\n",
    "list2 = ['hello'] * 3\n",
    "print(list2)\n",
    "# 计算列表长度（元素个数）\n",
    "print(len(list1))\n",
    "# 下表（索引）运算\n",
    "print(list1[0])\n",
    "print(list1[4])\n",
    "#print(list1[5]) # IndexError: list index out of range\n",
    "print(list1[-1])\n",
    "print(list1[-3])\n",
    "list1[2] = 300 # 通过索引赋值\n",
    "print(list1)\n",
    "# 通过循环用下标遍历列表元素\n",
    "for index in range(len(list1)):\n",
    "    print(list1[index])\n",
    "# 通过for循环遍历列表元素\n",
    "for elem in list1:\n",
    "    print(elem)\n",
    "# 通过enumerate函数处理列表之后再遍历可以同时获得元素索引和值\n",
    "for index, elem in enumerate(list1):\n",
    "    print(index, elem)"
   ]
  },
  {
   "cell_type": "markdown",
   "metadata": {},
   "source": [
    "下面的代码演示了如何向列表中添加元素以及如何从列表中移除元素"
   ]
  },
  {
   "cell_type": "code",
   "execution_count": 45,
   "metadata": {
    "collapsed": true
   },
   "outputs": [
    {
     "name": "stdout",
     "output_type": "stream",
     "text": [
      "[1, 400, 3, 5, 7, 100, 200, 1000, 2000]\n",
      "9\n",
      "[1, 400, 5, 7, 100, 200, 1000, 2000]\n",
      "[400, 5, 7, 100, 200, 1000]\n",
      "[]\n"
     ]
    }
   ],
   "source": [
    "list1 = [1, 3, 5, 7, 100]\n",
    "# 添加元素\n",
    "list1.append(200)\n",
    "list1.insert(1, 400)\n",
    "# 合并两个列表\n",
    "# list1.extend([1000, 2000])\n",
    "list1 += [1000, 2000]\n",
    "print(list1)\n",
    "print(len(list1))\n",
    "# 先通过成员运算判断元素是否在列表中，如果存在就删除该元素\n",
    "if 3 in list1:\n",
    "    list1.remove(3)\n",
    "if 1234 in list1:\n",
    "    list.remove(1234)\n",
    "print(list1)\n",
    "# 从指定的位置删除元素\n",
    "list1.pop(0)\n",
    "list1.pop(len(list1) - 1)\n",
    "print(list1)\n",
    "# 清空列表元素\n",
    "list1.clear()\n",
    "print(list1)"
   ]
  },
  {
   "cell_type": "markdown",
   "metadata": {},
   "source": [
    "和字符串一样列表也可以做切片操作，通过切片操作我们可以实现对列表的复制或将列表中的一部分取出来创建出新的列表。"
   ]
  },
  {
   "cell_type": "code",
   "execution_count": null,
   "metadata": {},
   "outputs": [],
   "source": [
    "fruits = ['grape', 'apple', 'strawberry', 'waxberry']\n",
    "fruits += ['pitaya', 'pear', 'mango']\n",
    "# 列表切片\n",
    "fruits2 = fruits[1:4]\n",
    "print(fruits2)\n",
    "# 可以通过完整切片操作来复制列表\n",
    "fruits3 = fruits[:]\n",
    "print(fruits3)\n",
    "fruits4 = fruits[-3:-1]\n",
    "print(fruits4)\n",
    "# 可以通过反向切片操作来获得倒转后的列表的拷贝\n",
    "fruits5 = fruits[::-1]\n",
    "print(fruits5)"
   ]
  },
  {
   "cell_type": "markdown",
   "metadata": {},
   "source": [
    "列表的排序操作"
   ]
  },
  {
   "cell_type": "code",
   "execution_count": 53,
   "metadata": {
    "collapsed": true
   },
   "outputs": [
    {
     "name": "stdout",
     "output_type": "stream",
     "text": [
      "['orange', 'apple', 'zoo', 'internationalization', 'blueberry']\n",
      "['apple', 'blueberry', 'internationalization', 'orange', 'zoo']\n",
      "['zoo', 'orange', 'internationalization', 'blueberry', 'apple']\n",
      "['zoo', 'apple', 'orange', 'blueberry', 'internationalization']\n",
      "['zoo', 'orange', 'internationalization', 'blueberry', 'apple']\n"
     ]
    }
   ],
   "source": [
    "list1 = ['orange', 'apple', 'zoo', 'internationalization', 'blueberry']\n",
    "list2 = sorted(list1)\n",
    "# sorted函数返回列表排序后的拷贝不会修改传入的列表\n",
    "# 函数的设计就应该像sorted函数一样尽可能不产生副作用\n",
    "list3 = sorted(list1, reverse=True)\n",
    "# 通过key关键字参数指定根据字符串长度进行排序而不是默认的字母表顺序\n",
    "list4 = sorted(list1, key=len)\n",
    "print(list1)\n",
    "print(list2)\n",
    "print(list3)\n",
    "print(list4)\n",
    "# 给列表对象发出排序消息直接在列表对象上进行排序\n",
    "list1.sort(reverse=True)\n",
    "print(list1)"
   ]
  },
  {
   "cell_type": "markdown",
   "metadata": {},
   "source": [
    "### 生成式和生成器\n",
    "我们还可以使用列表的生成式语法来创建列表，代码如下所示"
   ]
  },
  {
   "cell_type": "code",
   "execution_count": 59,
   "metadata": {
    "collapsed": true
   },
   "outputs": [
    {
     "name": "stdout",
     "output_type": "stream",
     "text": [
      "[1, 2, 3, 4, 5, 6, 7, 8, 9]\n",
      "['A1', 'A2', 'A3', 'A4', 'A5', 'A6', 'A7', 'B1', 'B2', 'B3', 'B4', 'B5', 'B6', 'B7', 'C1', 'C2', 'C3', 'C4', 'C5', 'C6', 'C7', 'D1', 'D2', 'D3', 'D4', 'D5', 'D6', 'D7']\n",
      "9024\n",
      "120\n"
     ]
    }
   ],
   "source": [
    "import sys\n",
    "f = [x for x in range(1, 10)]\n",
    "print(f)\n",
    "f = [x + y for x in 'ABCD' for y in '1234567']\n",
    "print(f)\n",
    "# 用列表的生成表达式语法创建列表容器\n",
    "# 用这种语法创建列表之后元素已经准备就绪所以需要耗费较多的内存空间\n",
    "f = [x ** 2 for x in range(1, 1000)]\n",
    "print(sys.getsizeof(f)) # 查看对象占用内存的字节数\n",
    "#print(f)\n",
    "# 请注意下面的代码创建的不是一个列表而是一个生成器对象\n",
    "# 通过生成器可以获取到数据但它不占用额外的空间存储数据\n",
    "# 每次需要数据的时候就通过内部的运算得到数据（需要花费额外的时间）\n",
    "f = (x ** 2 for x in range(1, 1000))\n",
    "print(sys.getsizeof(f)) # 相比生成式生成器不占用存储数据的空间\n",
    "#print(f)\n",
    "for val in f:\n",
    "    pass\n",
    "    #print(val)"
   ]
  },
  {
   "cell_type": "markdown",
   "metadata": {},
   "source": [
    "除了上面提到的生成器语法，Python中还有另外一种定义生成器的方式，就是通过```yield```关键字将一个普通函数改造成生成器函数。"
   ]
  },
  {
   "cell_type": "code",
   "execution_count": 60,
   "metadata": {
    "collapsed": true
   },
   "outputs": [
    {
     "name": "stdout",
     "output_type": "stream",
     "text": [
      "1\n",
      "1\n",
      "2\n",
      "3\n",
      "5\n",
      "8\n",
      "13\n",
      "21\n",
      "34\n",
      "55\n",
      "89\n",
      "144\n",
      "233\n",
      "377\n",
      "610\n",
      "987\n",
      "1597\n",
      "2584\n",
      "4181\n",
      "6765\n"
     ]
    }
   ],
   "source": [
    "def fib(n):\n",
    "    a, b = 0, 1\n",
    "    for _ in range(n):\n",
    "        a, b = b, a + b\n",
    "        yield a\n",
    "\n",
    "def main():\n",
    "    for val in fib(20):\n",
    "        print(val)\n",
    "\n",
    "main()"
   ]
  },
  {
   "cell_type": "markdown",
   "metadata": {},
   "source": [
    "### 使用元组\n",
    "Python中的元组与列表类似也是一种容器数据类型，可以用一个变量（对象）来存储多个数据，不同之处在于元组的元素不能修改。"
   ]
  }
 ],
 "metadata": {
  "kernelspec": {
   "display_name": "Python 3",
   "language": "python",
   "name": "python3"
  },
  "language_info": {
   "codemirror_mode": {
    "name": "ipython",
    "version": 3
   },
   "file_extension": ".py",
   "mimetype": "text/x-python",
   "name": "python",
   "nbconvert_exporter": "python",
   "pygments_lexer": "ipython3",
   "version": "3.7.4"
  }
 },
 "nbformat": 4,
 "nbformat_minor": 2
}
