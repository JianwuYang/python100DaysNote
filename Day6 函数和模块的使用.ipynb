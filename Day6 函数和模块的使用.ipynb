{
 "cells": [
  {
   "cell_type": "markdown",
   "metadata": {},
   "source": [
    "计算\n",
    "x_1 + x_2 + x_3 + x_4 = 8\n",
    "有多少种可能解\n",
    "转换问题为将8个苹苹果分成三份\n",
    "共有7个位置可以切入,可切3刀,3刀本身没有顺序"
   ]
  },
  {
   "cell_type": "markdown",
   "metadata": {},
   "source": [
    "$$C_M^N =\\frac{M!}{N!(M-N)!}, \\text{(M=7, N=3)} $$"
   ]
  },
  {
   "cell_type": "code",
   "execution_count": 9,
   "metadata": {},
   "outputs": [
    {
     "name": "stdout",
     "output_type": "stream",
     "text": [
      "m = 7\n",
      "n = 3\n",
      "35\n"
     ]
    }
   ],
   "source": [
    "\"\"\"\n",
    "输入M和N计算C(M,N)\n",
    "\"\"\"\n",
    "def factorial(num):\n",
    "    result = 1\n",
    "    for i in range(1, num + 1):\n",
    "        result *= i\n",
    "    return result\n",
    "\n",
    "m = int(input('m = '))\n",
    "n = int(input('n = '))\n",
    "print(factorial(m) // factorial(n) // factorial(m - n))"
   ]
  },
  {
   "cell_type": "markdown",
   "metadata": {},
   "source": [
    "### 定义函数\n",
    "在Python中可以使用```def```关键字来定义函数.```return```来返回值\n",
    "> **说明:**Python的```math```模块已经有一个```factoria```函数了"
   ]
  },
  {
   "cell_type": "markdown",
   "metadata": {},
   "source": [
    "### 函数的参数\n",
    "Python中函数与其他语言中的函数一个显著的区别就是Python对函数参数的处理."
   ]
  }
 ],
 "metadata": {
  "kernelspec": {
   "display_name": "Python 3",
   "language": "python",
   "name": "python3"
  },
  "language_info": {
   "codemirror_mode": {
    "name": "ipython",
    "version": 3
   },
   "file_extension": ".py",
   "mimetype": "text/x-python",
   "name": "python",
   "nbconvert_exporter": "python",
   "pygments_lexer": "ipython3",
   "version": "3.7.1"
  }
 },
 "nbformat": 4,
 "nbformat_minor": 2
}
