{
 "cells": [
  {
   "cell_type": "markdown",
   "metadata": {},
   "source": [
    "计算\n",
    "x_1 + x_2 + x_3 + x_4 = 8\n",
    "有多少种可能解\n",
    "转换问题为将8个苹苹果分成三份\n",
    "共有7个位置可以切入,可切3刀,3刀本身没有顺序"
   ]
  },
  {
   "cell_type": "markdown",
   "metadata": {},
   "source": [
    "$$C_M^N =\\frac{M!}{N!(M-N)!}, \\text{(M=7, N=3)} $$"
   ]
  },
  {
   "cell_type": "code",
   "execution_count": 9,
   "metadata": {},
   "outputs": [
    {
     "name": "stdout",
     "output_type": "stream",
     "text": [
      "m = 7\n",
      "n = 3\n",
      "35\n"
     ]
    }
   ],
   "source": [
    "\"\"\"\n",
    "输入M和N计算C(M,N)\n",
    "\"\"\"\n",
    "def factorial(num):\n",
    "    result = 1\n",
    "    for i in range(1, num + 1):\n",
    "        result *= i\n",
    "    return result\n",
    "\n",
    "m = int(input('m = '))\n",
    "n = int(input('n = '))\n",
    "print(factorial(m) // factorial(n) // factorial(m - n))"
   ]
  },
  {
   "cell_type": "markdown",
   "metadata": {},
   "source": [
    "### 定义函数\n",
    "在Python中可以使用```def```关键字来定义函数.```return```来返回值\n",
    "> **说明:**Python的```math```模块已经有一个```factoria```函数了"
   ]
  },
  {
   "cell_type": "markdown",
   "metadata": {},
   "source": [
    "### 函数的参数\n",
    "Python中函数与其他语言中的函数一个显著的区别就是Python对函数参数的处理.在Python中，函数的参数可以有默认值，也支持使用可变参数，所以Python并不需要像其他语言一样支持**函数的重载**，因为我们在定义一个函数的时候可以让它有多种不同的使用方式"
   ]
  },
  {
   "cell_type": "code",
   "execution_count": 3,
   "metadata": {
    "collapsed": true
   },
   "outputs": [
    {
     "name": "stdout",
     "output_type": "stream",
     "text": [
      "9\n",
      "16\n",
      "0\n",
      "1\n",
      "3\n",
      "6\n",
      "162\n"
     ]
    }
   ],
   "source": [
    "from random import randint\n",
    "\n",
    "def roll_dice(n=2):\n",
    "    \"\"\"摇色子\"\"\"\n",
    "    total = 0\n",
    "    for _ in range(n):\n",
    "        total += randint(1, 6)\n",
    "    return total\n",
    "\n",
    "def add(a=0, b=0, c=0):\n",
    "    \"\"\"三个数相加\"\"\"\n",
    "    return a + b + c\n",
    "\n",
    "# 使用参数默认值调用函数\n",
    "print(roll_dice())\n",
    "#摇三颗色子\n",
    "print(roll_dice(3))\n",
    "\n",
    "# 任意参数调用add()函数\n",
    "print(add())\n",
    "print(add(1))\n",
    "print(add(1, 2))\n",
    "print(add(1, 2, 3))\n",
    "# 传递参数时可以不按照设定的顺序进行传递\n",
    "print(add(c=100, a=32, b=30))"
   ]
  },
  {
   "cell_type": "markdown",
   "metadata": {},
   "source": [
    "针对add()函数还有更好的处理方式，可能会对0个或者多个参数进行加法运算，而具体有多少个参数由调用者决定。"
   ]
  },
  {
   "cell_type": "code",
   "execution_count": 4,
   "metadata": {
    "collapsed": true
   },
   "outputs": [
    {
     "name": "stdout",
     "output_type": "stream",
     "text": [
      "0\n",
      "3\n",
      "13\n",
      "26\n"
     ]
    }
   ],
   "source": [
    "# 在参数名前面的*表示args是一个可变参数\n",
    "def add(*args):\n",
    "    total = 0;\n",
    "    for val in args:\n",
    "        total += val\n",
    "    return total\n",
    "\n",
    "print(add())\n",
    "print(add(3))\n",
    "print(add(3, 4, 6))\n",
    "print(add(3, 4, 5, 2, 3, 4, 5))"
   ]
  },
  {
   "cell_type": "markdown",
   "metadata": {},
   "source": [
    "### 用模块管理函数\n",
    ".py文件即为python的模块。\n",
    "\n",
    "需要说明的是，如果我们导入的模块除了定义函数之外还有可以执行的代码，那么Python解释器在导入这个模块时就会执行这些代码，事实上我们可能并不希望如此，因此如果我们在模块中编写了执行代码，最好是将这些执行代码放入如下所示的条件中，这样的话除非直接运行该模块，if条件下的这些代码是不会执行的，因为只有直接执行的模块的名字才是“__main__”"
   ]
  },
  {
   "cell_type": "code",
   "execution_count": null,
   "metadata": {},
   "outputs": [],
   "source": [
    "def foo():\n",
    "    pass\n",
    "\n",
    "def bar():\n",
    "    pass\n",
    "\n",
    "if _name_ == '__main__':\n",
    "    print('call foo()')\n",
    "    foo()\n",
    "    print('call bar()')\n",
    "    bar()"
   ]
  },
  {
   "cell_type": "code",
   "execution_count": 9,
   "metadata": {},
   "outputs": [
    {
     "name": "stdout",
     "output_type": "stream",
     "text": [
      "8\n",
      "231\n"
     ]
    }
   ],
   "source": [
    "\"\"\"\n",
    "实现计算最大公约数和最小公倍数的函数\n",
    "\"\"\"\n",
    "def gcd(x, y):\n",
    "    (x, y) = (y, x) if x > y else (x, y)\n",
    "    for factor in range(x, 0, -1):\n",
    "        if x % factor == 0 and y % factor == 0:\n",
    "            return factor\n",
    "\n",
    "def lcm(x, y):\n",
    "    return x * y // gcd(x, y)\n",
    "\n",
    "print(gcd(88, 72))\n",
    "print(lcm(33, 77))"
   ]
  },
  {
   "cell_type": "code",
   "execution_count": null,
   "metadata": {},
   "outputs": [],
   "source": []
  }
 ],
 "metadata": {
  "kernelspec": {
   "display_name": "Python 3",
   "language": "python",
   "name": "python3"
  },
  "language_info": {
   "codemirror_mode": {
    "name": "ipython",
    "version": 3
   },
   "file_extension": ".py",
   "mimetype": "text/x-python",
   "name": "python",
   "nbconvert_exporter": "python",
   "pygments_lexer": "ipython3",
   "version": "3.7.4"
  }
 },
 "nbformat": 4,
 "nbformat_minor": 2
}
